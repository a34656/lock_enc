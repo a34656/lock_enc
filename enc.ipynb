{
 "cells": [
  {
   "cell_type": "code",
   "execution_count": 1,
   "id": "67c03735",
   "metadata": {},
   "outputs": [],
   "source": [
    "%mkdir training_images"
   ]
  },
  {
   "cell_type": "code",
   "execution_count": 4,
   "id": "aca067c1",
   "metadata": {},
   "outputs": [
    {
     "name": "stdout",
     "output_type": "stream",
     "text": [
      "c:\\Users\\KIIT0001\\Desktop\\Desktop\\face_enco\\training_images\n"
     ]
    }
   ],
   "source": [
    "cd training_images"
   ]
  },
  {
   "cell_type": "code",
   "execution_count": 5,
   "id": "27b3b206",
   "metadata": {},
   "outputs": [],
   "source": [
    "%mkdir rohan_kumar_das"
   ]
  },
  {
   "cell_type": "code",
   "execution_count": 40,
   "id": "50b10484",
   "metadata": {},
   "outputs": [],
   "source": [
    "import dlib\n",
    "import cv2\n",
    "import os\n",
    "\n",
    "detector  = dlib.get_frontal_face_detector()\n",
    "predictor = dlib.shape_predictor(r\"C:\\Users\\KIIT0001\\Desktop\\Desktop\\face_enco\\shape_predictor_68_face_landmarks_GTX.dat\")\n",
    "face_rec_model = dlib.face_recognition_model_v1(r\"C:\\Users\\KIIT0001\\Desktop\\Desktop\\face_enco\\dlib_face_recognition_resnet_model_v1.dat\")"
   ]
  },
  {
   "cell_type": "code",
   "execution_count": 29,
   "id": "bf3af85e",
   "metadata": {},
   "outputs": [],
   "source": [
    "import numpy as np\n",
    "from PIL import Image"
   ]
  },
  {
   "cell_type": "code",
   "execution_count": 45,
   "id": "ebb3aea3",
   "metadata": {},
   "outputs": [],
   "source": [
    "from skimage import io"
   ]
  },
  {
   "cell_type": "code",
   "execution_count": 48,
   "id": "9b4ca0fc",
   "metadata": {},
   "outputs": [
    {
     "ename": "RuntimeError",
     "evalue": "Unsupported image type, must be 8bit gray or RGB image.",
     "output_type": "error",
     "traceback": [
      "\u001b[31m---------------------------------------------------------------------------\u001b[39m",
      "\u001b[31mRuntimeError\u001b[39m                              Traceback (most recent call last)",
      "\u001b[36mCell\u001b[39m\u001b[36m \u001b[39m\u001b[32mIn[48]\u001b[39m\u001b[32m, line 18\u001b[39m\n\u001b[32m     16\u001b[39m rgb_image = cv2.cvtColor(image, cv2.COLOR_BGR2RGB)\n\u001b[32m     17\u001b[39m \u001b[38;5;66;03m# rgb_image = np.ascontiguousarray(rgb_image)\u001b[39;00m\n\u001b[32m---> \u001b[39m\u001b[32m18\u001b[39m faces = \u001b[43mdetector\u001b[49m\u001b[43m(\u001b[49m\u001b[43mimage\u001b[49m\u001b[43m,\u001b[49m\u001b[43m \u001b[49m\u001b[32;43m1\u001b[39;49m\u001b[43m)\u001b[49m\n\u001b[32m     19\u001b[39m \u001b[38;5;66;03m# if len(faces) == 0:\u001b[39;00m\n\u001b[32m     20\u001b[39m \u001b[38;5;66;03m#     print(f\"No faces found in {file_path}.\")\u001b[39;00m\n\u001b[32m     21\u001b[39m \u001b[38;5;66;03m#     continue\u001b[39;00m\n\u001b[32m   (...)\u001b[39m\u001b[32m     24\u001b[39m \u001b[38;5;66;03m#     encoding = face_rec_model.compute_face_descriptor(rgb_image, shape)\u001b[39;00m\n\u001b[32m     25\u001b[39m \u001b[38;5;66;03m#     print(\"Encoding:\", list(encoding))\u001b[39;00m\n",
      "\u001b[31mRuntimeError\u001b[39m: Unsupported image type, must be 8bit gray or RGB image."
     ]
    }
   ],
   "source": [
    "directory_path = r\"C:\\Users\\KIIT0001\\Desktop\\Desktop\\face_enco\\training_images\"\n",
    "if not os.path.exists(directory_path):\n",
    "    raise FileNotFoundError(\"training_images not found. Please check the path and try again.\")\n",
    "\n",
    "for folder in os.listdir(directory_path):\n",
    "    folder_path = os.path.join(directory_path, folder)\n",
    "    if os.path.isdir(folder_path):\n",
    "        for filename in os.listdir(folder_path):\n",
    "            file_path = os.path.join(folder_path, filename)\n",
    "            if os.path.isfile(file_path) and filename.lower().endswith(('.png', '.jpg', '.jpeg', '.gif')):\n",
    "                # image = cv2.imread(file_path)\n",
    "                # if image is None:\n",
    "                #     print(\"Skipping unreadable image:\", file_path)\n",
    "                #     continue\n",
    "                image = io.imread(file_path)\n",
    "                rgb_image = cv2.cvtColor(image, cv2.COLOR_BGR2RGB)\n",
    "                # rgb_image = np.ascontiguousarray(rgb_image)\n",
    "                faces = detector(image, 1)\n",
    "                # if len(faces) == 0:\n",
    "                #     print(f\"No faces found in {file_path}.\")\n",
    "                #     continue\n",
    "                # for face in faces:\n",
    "                #     shape = predictor(rgb_image, face)\n",
    "                #     encoding = face_rec_model.compute_face_descriptor(rgb_image, shape)\n",
    "                #     print(\"Encoding:\", list(encoding))"
   ]
  },
  {
   "cell_type": "code",
   "execution_count": null,
   "id": "d6678a61",
   "metadata": {},
   "outputs": [],
   "source": []
  }
 ],
 "metadata": {
  "kernelspec": {
   "display_name": "myenv",
   "language": "python",
   "name": "python3"
  },
  "language_info": {
   "codemirror_mode": {
    "name": "ipython",
    "version": 3
   },
   "file_extension": ".py",
   "mimetype": "text/x-python",
   "name": "python",
   "nbconvert_exporter": "python",
   "pygments_lexer": "ipython3",
   "version": "3.11.9"
  }
 },
 "nbformat": 4,
 "nbformat_minor": 5
}
